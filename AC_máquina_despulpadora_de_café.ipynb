{
  "nbformat": 4,
  "nbformat_minor": 0,
  "metadata": {
    "colab": {
      "provenance": []
    },
    "kernelspec": {
      "name": "python3",
      "display_name": "Python 3"
    },
    "language_info": {
      "name": "python"
    }
  },
  "cells": [
    {
      "cell_type": "code",
      "execution_count": null,
      "metadata": {
        "id": "O61pSWJc5gM8"
      },
      "outputs": [],
      "source": [
        "import numpy as np"
      ]
    },
    {
      "cell_type": "code",
      "source": [
        "# Configuración inicial del tambor (1 = grano, 0 = vacío)\n",
        "tambor = np.zeros(20)\n",
        "tambor[5] = 1  # Grano inicial en posición 5\n",
        "\n",
        "# Reglas del autómata\n",
        "def update_tambor(tambor, velocidad):\n",
        "    nuevo_tambor = np.zeros_like(tambor)\n",
        "    for i in range(len(tambor)):\n",
        "        if tambor[i] == 1:\n",
        "            # El grano se mueve hacia la derecha según la velocidad\n",
        "            nueva_posicion = min(i + velocidad, len(tambor) - 1)\n",
        "            nuevo_tambor[nueva_posicion] = 1\n",
        "    return nuevo_tambor\n",
        "\n",
        "# Simulación\n",
        "velocidad = 2\n",
        "for t in range(10):\n",
        "    print(f\"Tiempo {t}: {tambor}\")\n",
        "    tambor = update_tambor(tambor, velocidad)\n"
      ],
      "metadata": {
        "colab": {
          "base_uri": "https://localhost:8080/"
        },
        "id": "RQuhrADQ5oG_",
        "outputId": "c465d56b-1e10-421c-a641-4f126a5ca35a"
      },
      "execution_count": null,
      "outputs": [
        {
          "output_type": "stream",
          "name": "stdout",
          "text": [
            "Tiempo 0: [0. 0. 0. 0. 0. 1. 0. 0. 0. 0. 0. 0. 0. 0. 0. 0. 0. 0. 0. 0.]\n",
            "Tiempo 1: [0. 0. 0. 0. 0. 0. 0. 1. 0. 0. 0. 0. 0. 0. 0. 0. 0. 0. 0. 0.]\n",
            "Tiempo 2: [0. 0. 0. 0. 0. 0. 0. 0. 0. 1. 0. 0. 0. 0. 0. 0. 0. 0. 0. 0.]\n",
            "Tiempo 3: [0. 0. 0. 0. 0. 0. 0. 0. 0. 0. 0. 1. 0. 0. 0. 0. 0. 0. 0. 0.]\n",
            "Tiempo 4: [0. 0. 0. 0. 0. 0. 0. 0. 0. 0. 0. 0. 0. 1. 0. 0. 0. 0. 0. 0.]\n",
            "Tiempo 5: [0. 0. 0. 0. 0. 0. 0. 0. 0. 0. 0. 0. 0. 0. 0. 1. 0. 0. 0. 0.]\n",
            "Tiempo 6: [0. 0. 0. 0. 0. 0. 0. 0. 0. 0. 0. 0. 0. 0. 0. 0. 0. 1. 0. 0.]\n",
            "Tiempo 7: [0. 0. 0. 0. 0. 0. 0. 0. 0. 0. 0. 0. 0. 0. 0. 0. 0. 0. 0. 1.]\n",
            "Tiempo 8: [0. 0. 0. 0. 0. 0. 0. 0. 0. 0. 0. 0. 0. 0. 0. 0. 0. 0. 0. 1.]\n",
            "Tiempo 9: [0. 0. 0. 0. 0. 0. 0. 0. 0. 0. 0. 0. 0. 0. 0. 0. 0. 0. 0. 1.]\n"
          ]
        }
      ]
    },
    {
      "cell_type": "code",
      "source": [
        "# Movimiento del grano dentro del tambor"
      ],
      "metadata": {
        "id": "vPAOVobX8GF8"
      },
      "execution_count": null,
      "outputs": []
    },
    {
      "cell_type": "code",
      "source": [
        "import numpy as np\n",
        "import matplotlib.pyplot as plt\n",
        "import time"
      ],
      "metadata": {
        "id": "QfwqVPS48Rcf"
      },
      "execution_count": null,
      "outputs": []
    },
    {
      "cell_type": "code",
      "source": [
        "# Configuración inicial del tambor (1 = grano, 0 = vacío)\n",
        "tambor = np.zeros(20)\n",
        "tambor[5] = 1  # Grano inicial en posición 5\n",
        "\n",
        "# Reglas del autómata\n",
        "def update_tambor(tambor, velocidad):\n",
        "    nuevo_tambor = np.zeros_like(tambor)\n",
        "    for i in range(len(tambor)):\n",
        "        if tambor[i] == 1:\n",
        "            # El grano se mueve hacia la derecha según la velocidad\n",
        "            nueva_posicion = min(i + velocidad, len(tambor) - 1)\n",
        "            nuevo_tambor[nueva_posicion] = 1\n",
        "    return nuevo_tambor\n",
        "\n",
        "# Visualización\n",
        "def print_tambor(tambor):\n",
        "    tambor_str = ''.join(['O' if x == 1 else '.' for x in tambor])\n",
        "    print(f\"|{tambor_str}|\")\n",
        "\n",
        "# Simulación\n",
        "velocidad = 2\n",
        "for t in range(10):\n",
        "    print(f\"Tiempo {t}:\")\n",
        "    print_tambor(tambor)\n",
        "    tambor = update_tambor(tambor, velocidad)\n",
        "    time.sleep(0.5)  # Pausa para observar el movimiento\n"
      ],
      "metadata": {
        "colab": {
          "base_uri": "https://localhost:8080/"
        },
        "id": "5MLdAjun8LLR",
        "outputId": "fe612894-823a-416b-fb59-ff7f90e0ffc9"
      },
      "execution_count": null,
      "outputs": [
        {
          "output_type": "stream",
          "name": "stdout",
          "text": [
            "Tiempo 0:\n",
            "|.....O..............|\n",
            "Tiempo 1:\n",
            "|.......O............|\n",
            "Tiempo 2:\n",
            "|.........O..........|\n",
            "Tiempo 3:\n",
            "|...........O........|\n",
            "Tiempo 4:\n",
            "|.............O......|\n",
            "Tiempo 5:\n",
            "|...............O....|\n",
            "Tiempo 6:\n",
            "|.................O..|\n",
            "Tiempo 7:\n",
            "|...................O|\n",
            "Tiempo 8:\n",
            "|...................O|\n",
            "Tiempo 9:\n",
            "|...................O|\n"
          ]
        }
      ]
    }
  ]
}